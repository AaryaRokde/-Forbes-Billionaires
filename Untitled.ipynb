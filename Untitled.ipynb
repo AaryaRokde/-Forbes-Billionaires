{
 "cells": [
  {
   "cell_type": "code",
   "execution_count": 129,
   "id": "77bbb9f8-aa99-4519-abc8-c5539eb35920",
   "metadata": {},
   "outputs": [],
   "source": [
    "import numpy as np\n",
    "import pandas as pd\n",
    "import matplotlib.pyplot as plt\n",
    "import seaborn as sb\n"
   ]
  },
  {
   "cell_type": "code",
   "execution_count": 130,
   "id": "831f75ce-b61c-4db5-9158-f2603c328b6b",
   "metadata": {},
   "outputs": [
    {
     "data": {
      "text/html": [
       "<div>\n",
       "<style scoped>\n",
       "    .dataframe tbody tr th:only-of-type {\n",
       "        vertical-align: middle;\n",
       "    }\n",
       "\n",
       "    .dataframe tbody tr th {\n",
       "        vertical-align: top;\n",
       "    }\n",
       "\n",
       "    .dataframe thead th {\n",
       "        text-align: right;\n",
       "    }\n",
       "</style>\n",
       "<table border=\"1\" class=\"dataframe\">\n",
       "  <thead>\n",
       "    <tr style=\"text-align: right;\">\n",
       "      <th></th>\n",
       "      <th>Unnamed: 0</th>\n",
       "      <th>rank</th>\n",
       "      <th>name</th>\n",
       "      <th>networth</th>\n",
       "      <th>age</th>\n",
       "      <th>country</th>\n",
       "      <th>source</th>\n",
       "      <th>industry</th>\n",
       "    </tr>\n",
       "  </thead>\n",
       "  <tbody>\n",
       "    <tr>\n",
       "      <th>0</th>\n",
       "      <td>0</td>\n",
       "      <td>1</td>\n",
       "      <td>Elon Musk</td>\n",
       "      <td>$219 B</td>\n",
       "      <td>50</td>\n",
       "      <td>United States</td>\n",
       "      <td>Tesla, SpaceX</td>\n",
       "      <td>Automotive</td>\n",
       "    </tr>\n",
       "    <tr>\n",
       "      <th>1</th>\n",
       "      <td>1</td>\n",
       "      <td>2</td>\n",
       "      <td>Jeff Bezos</td>\n",
       "      <td>$171 B</td>\n",
       "      <td>58</td>\n",
       "      <td>United States</td>\n",
       "      <td>Amazon</td>\n",
       "      <td>Technology</td>\n",
       "    </tr>\n",
       "    <tr>\n",
       "      <th>2</th>\n",
       "      <td>2</td>\n",
       "      <td>3</td>\n",
       "      <td>Bernard Arnault &amp; family</td>\n",
       "      <td>$158 B</td>\n",
       "      <td>73</td>\n",
       "      <td>France</td>\n",
       "      <td>LVMH</td>\n",
       "      <td>Fashion &amp; Retail</td>\n",
       "    </tr>\n",
       "    <tr>\n",
       "      <th>3</th>\n",
       "      <td>3</td>\n",
       "      <td>4</td>\n",
       "      <td>Bill Gates</td>\n",
       "      <td>$129 B</td>\n",
       "      <td>66</td>\n",
       "      <td>United States</td>\n",
       "      <td>Microsoft</td>\n",
       "      <td>Technology</td>\n",
       "    </tr>\n",
       "    <tr>\n",
       "      <th>4</th>\n",
       "      <td>4</td>\n",
       "      <td>5</td>\n",
       "      <td>Warren Buffett</td>\n",
       "      <td>$118 B</td>\n",
       "      <td>91</td>\n",
       "      <td>United States</td>\n",
       "      <td>Berkshire Hathaway</td>\n",
       "      <td>Finance &amp; Investments</td>\n",
       "    </tr>\n",
       "    <tr>\n",
       "      <th>...</th>\n",
       "      <td>...</td>\n",
       "      <td>...</td>\n",
       "      <td>...</td>\n",
       "      <td>...</td>\n",
       "      <td>...</td>\n",
       "      <td>...</td>\n",
       "      <td>...</td>\n",
       "      <td>...</td>\n",
       "    </tr>\n",
       "    <tr>\n",
       "      <th>2595</th>\n",
       "      <td>2595</td>\n",
       "      <td>2578</td>\n",
       "      <td>Jorge Gallardo Ballart</td>\n",
       "      <td>$1 B</td>\n",
       "      <td>80</td>\n",
       "      <td>Spain</td>\n",
       "      <td>pharmaceuticals</td>\n",
       "      <td>Healthcare</td>\n",
       "    </tr>\n",
       "    <tr>\n",
       "      <th>2596</th>\n",
       "      <td>2596</td>\n",
       "      <td>2578</td>\n",
       "      <td>Nari Genomal</td>\n",
       "      <td>$1 B</td>\n",
       "      <td>82</td>\n",
       "      <td>Philippines</td>\n",
       "      <td>apparel</td>\n",
       "      <td>Fashion &amp; Retail</td>\n",
       "    </tr>\n",
       "    <tr>\n",
       "      <th>2597</th>\n",
       "      <td>2597</td>\n",
       "      <td>2578</td>\n",
       "      <td>Ramesh Genomal</td>\n",
       "      <td>$1 B</td>\n",
       "      <td>71</td>\n",
       "      <td>Philippines</td>\n",
       "      <td>apparel</td>\n",
       "      <td>Fashion &amp; Retail</td>\n",
       "    </tr>\n",
       "    <tr>\n",
       "      <th>2598</th>\n",
       "      <td>2598</td>\n",
       "      <td>2578</td>\n",
       "      <td>Sunder Genomal</td>\n",
       "      <td>$1 B</td>\n",
       "      <td>68</td>\n",
       "      <td>Philippines</td>\n",
       "      <td>garments</td>\n",
       "      <td>Fashion &amp; Retail</td>\n",
       "    </tr>\n",
       "    <tr>\n",
       "      <th>2599</th>\n",
       "      <td>2599</td>\n",
       "      <td>2578</td>\n",
       "      <td>Horst-Otto Gerberding</td>\n",
       "      <td>$1 B</td>\n",
       "      <td>69</td>\n",
       "      <td>Germany</td>\n",
       "      <td>flavors and fragrances</td>\n",
       "      <td>Food &amp; Beverage</td>\n",
       "    </tr>\n",
       "  </tbody>\n",
       "</table>\n",
       "<p>2600 rows × 8 columns</p>\n",
       "</div>"
      ],
      "text/plain": [
       "      Unnamed: 0  rank                       name networth  age  \\\n",
       "0              0     1                 Elon Musk    $219 B   50   \n",
       "1              1     2                Jeff Bezos    $171 B   58   \n",
       "2              2     3  Bernard Arnault & family    $158 B   73   \n",
       "3              3     4                Bill Gates    $129 B   66   \n",
       "4              4     5            Warren Buffett    $118 B   91   \n",
       "...          ...   ...                        ...      ...  ...   \n",
       "2595        2595  2578    Jorge Gallardo Ballart      $1 B   80   \n",
       "2596        2596  2578              Nari Genomal      $1 B   82   \n",
       "2597        2597  2578            Ramesh Genomal      $1 B   71   \n",
       "2598        2598  2578            Sunder Genomal      $1 B   68   \n",
       "2599        2599  2578     Horst-Otto Gerberding      $1 B   69   \n",
       "\n",
       "            country                  source                industry  \n",
       "0     United States           Tesla, SpaceX             Automotive   \n",
       "1     United States                  Amazon             Technology   \n",
       "2            France                    LVMH       Fashion & Retail   \n",
       "3     United States               Microsoft             Technology   \n",
       "4     United States      Berkshire Hathaway  Finance & Investments   \n",
       "...             ...                     ...                     ...  \n",
       "2595          Spain         pharmaceuticals             Healthcare   \n",
       "2596    Philippines                 apparel       Fashion & Retail   \n",
       "2597    Philippines                 apparel       Fashion & Retail   \n",
       "2598    Philippines                garments       Fashion & Retail   \n",
       "2599        Germany  flavors and fragrances        Food & Beverage   \n",
       "\n",
       "[2600 rows x 8 columns]"
      ]
     },
     "execution_count": 130,
     "metadata": {},
     "output_type": "execute_result"
    }
   ],
   "source": [
    "df=pd.read_csv(\"../Practice/2022_forbes_billionaires.csv\")\n",
    "df"
   ]
  },
  {
   "cell_type": "markdown",
   "id": "f68cb410-f32f-4840-b091-31f4f4aed194",
   "metadata": {},
   "source": [
    "# 1. Data Preparation:\n",
    "## How can we handle missing values in the dataset?"
   ]
  },
  {
   "cell_type": "markdown",
   "id": "3e208c71-049a-48ff-8264-23bdacf44331",
   "metadata": {},
   "source": [
    "### 1.Identify missing values in the data."
   ]
  },
  {
   "cell_type": "code",
   "execution_count": 131,
   "id": "4394635e-6b0e-4bc6-8948-66cc140e6430",
   "metadata": {},
   "outputs": [
    {
     "data": {
      "text/plain": [
       "Unnamed: 0    0\n",
       "rank          0\n",
       "name          0\n",
       "networth      0\n",
       "age           0\n",
       "country       0\n",
       "source        0\n",
       "industry      0\n",
       "dtype: int64"
      ]
     },
     "execution_count": 131,
     "metadata": {},
     "output_type": "execute_result"
    }
   ],
   "source": [
    "df.isnull().sum() "
   ]
  },
  {
   "cell_type": "markdown",
   "id": "04212310-7762-4d34-a6f7-3976d530b929",
   "metadata": {},
   "source": [
    "### There are no missing values in any column."
   ]
  },
  {
   "cell_type": "markdown",
   "id": "989326dd-0a83-4f7e-b39f-8e0f415cc7f3",
   "metadata": {},
   "source": [
    "### 2.Convert necessary columns like Net Worth from string to float for analysis\n"
   ]
  },
  {
   "cell_type": "code",
   "execution_count": 132,
   "id": "dfd77d4e-859e-4273-954f-7b05b51a0bef",
   "metadata": {},
   "outputs": [],
   "source": [
    "df['networth'] = df['networth'].str.replace(\"$\", \"\", regex=False)\n",
    "df['networth'] = df['networth'].str.replace(\"B\", \"\", regex=False)\n",
    "df['networth'] = df['networth'].str.replace(\" \", \"\", regex=False)"
   ]
  },
  {
   "cell_type": "code",
   "execution_count": 133,
   "id": "4512c17b-7ad1-4373-bc06-d71222a5e1db",
   "metadata": {},
   "outputs": [
    {
     "data": {
      "text/html": [
       "<div>\n",
       "<style scoped>\n",
       "    .dataframe tbody tr th:only-of-type {\n",
       "        vertical-align: middle;\n",
       "    }\n",
       "\n",
       "    .dataframe tbody tr th {\n",
       "        vertical-align: top;\n",
       "    }\n",
       "\n",
       "    .dataframe thead th {\n",
       "        text-align: right;\n",
       "    }\n",
       "</style>\n",
       "<table border=\"1\" class=\"dataframe\">\n",
       "  <thead>\n",
       "    <tr style=\"text-align: right;\">\n",
       "      <th></th>\n",
       "      <th>Unnamed: 0</th>\n",
       "      <th>rank</th>\n",
       "      <th>name</th>\n",
       "      <th>networth</th>\n",
       "      <th>age</th>\n",
       "      <th>country</th>\n",
       "      <th>source</th>\n",
       "      <th>industry</th>\n",
       "    </tr>\n",
       "  </thead>\n",
       "  <tbody>\n",
       "    <tr>\n",
       "      <th>0</th>\n",
       "      <td>0</td>\n",
       "      <td>1</td>\n",
       "      <td>Elon Musk</td>\n",
       "      <td>219</td>\n",
       "      <td>50</td>\n",
       "      <td>United States</td>\n",
       "      <td>Tesla, SpaceX</td>\n",
       "      <td>Automotive</td>\n",
       "    </tr>\n",
       "    <tr>\n",
       "      <th>1</th>\n",
       "      <td>1</td>\n",
       "      <td>2</td>\n",
       "      <td>Jeff Bezos</td>\n",
       "      <td>171</td>\n",
       "      <td>58</td>\n",
       "      <td>United States</td>\n",
       "      <td>Amazon</td>\n",
       "      <td>Technology</td>\n",
       "    </tr>\n",
       "    <tr>\n",
       "      <th>2</th>\n",
       "      <td>2</td>\n",
       "      <td>3</td>\n",
       "      <td>Bernard Arnault &amp; family</td>\n",
       "      <td>158</td>\n",
       "      <td>73</td>\n",
       "      <td>France</td>\n",
       "      <td>LVMH</td>\n",
       "      <td>Fashion &amp; Retail</td>\n",
       "    </tr>\n",
       "    <tr>\n",
       "      <th>3</th>\n",
       "      <td>3</td>\n",
       "      <td>4</td>\n",
       "      <td>Bill Gates</td>\n",
       "      <td>129</td>\n",
       "      <td>66</td>\n",
       "      <td>United States</td>\n",
       "      <td>Microsoft</td>\n",
       "      <td>Technology</td>\n",
       "    </tr>\n",
       "    <tr>\n",
       "      <th>4</th>\n",
       "      <td>4</td>\n",
       "      <td>5</td>\n",
       "      <td>Warren Buffett</td>\n",
       "      <td>118</td>\n",
       "      <td>91</td>\n",
       "      <td>United States</td>\n",
       "      <td>Berkshire Hathaway</td>\n",
       "      <td>Finance &amp; Investments</td>\n",
       "    </tr>\n",
       "    <tr>\n",
       "      <th>...</th>\n",
       "      <td>...</td>\n",
       "      <td>...</td>\n",
       "      <td>...</td>\n",
       "      <td>...</td>\n",
       "      <td>...</td>\n",
       "      <td>...</td>\n",
       "      <td>...</td>\n",
       "      <td>...</td>\n",
       "    </tr>\n",
       "    <tr>\n",
       "      <th>2595</th>\n",
       "      <td>2595</td>\n",
       "      <td>2578</td>\n",
       "      <td>Jorge Gallardo Ballart</td>\n",
       "      <td>1</td>\n",
       "      <td>80</td>\n",
       "      <td>Spain</td>\n",
       "      <td>pharmaceuticals</td>\n",
       "      <td>Healthcare</td>\n",
       "    </tr>\n",
       "    <tr>\n",
       "      <th>2596</th>\n",
       "      <td>2596</td>\n",
       "      <td>2578</td>\n",
       "      <td>Nari Genomal</td>\n",
       "      <td>1</td>\n",
       "      <td>82</td>\n",
       "      <td>Philippines</td>\n",
       "      <td>apparel</td>\n",
       "      <td>Fashion &amp; Retail</td>\n",
       "    </tr>\n",
       "    <tr>\n",
       "      <th>2597</th>\n",
       "      <td>2597</td>\n",
       "      <td>2578</td>\n",
       "      <td>Ramesh Genomal</td>\n",
       "      <td>1</td>\n",
       "      <td>71</td>\n",
       "      <td>Philippines</td>\n",
       "      <td>apparel</td>\n",
       "      <td>Fashion &amp; Retail</td>\n",
       "    </tr>\n",
       "    <tr>\n",
       "      <th>2598</th>\n",
       "      <td>2598</td>\n",
       "      <td>2578</td>\n",
       "      <td>Sunder Genomal</td>\n",
       "      <td>1</td>\n",
       "      <td>68</td>\n",
       "      <td>Philippines</td>\n",
       "      <td>garments</td>\n",
       "      <td>Fashion &amp; Retail</td>\n",
       "    </tr>\n",
       "    <tr>\n",
       "      <th>2599</th>\n",
       "      <td>2599</td>\n",
       "      <td>2578</td>\n",
       "      <td>Horst-Otto Gerberding</td>\n",
       "      <td>1</td>\n",
       "      <td>69</td>\n",
       "      <td>Germany</td>\n",
       "      <td>flavors and fragrances</td>\n",
       "      <td>Food &amp; Beverage</td>\n",
       "    </tr>\n",
       "  </tbody>\n",
       "</table>\n",
       "<p>2600 rows × 8 columns</p>\n",
       "</div>"
      ],
      "text/plain": [
       "      Unnamed: 0  rank                       name networth  age  \\\n",
       "0              0     1                 Elon Musk       219   50   \n",
       "1              1     2                Jeff Bezos       171   58   \n",
       "2              2     3  Bernard Arnault & family       158   73   \n",
       "3              3     4                Bill Gates       129   66   \n",
       "4              4     5            Warren Buffett       118   91   \n",
       "...          ...   ...                        ...      ...  ...   \n",
       "2595        2595  2578    Jorge Gallardo Ballart         1   80   \n",
       "2596        2596  2578              Nari Genomal         1   82   \n",
       "2597        2597  2578            Ramesh Genomal         1   71   \n",
       "2598        2598  2578            Sunder Genomal         1   68   \n",
       "2599        2599  2578     Horst-Otto Gerberding         1   69   \n",
       "\n",
       "            country                  source                industry  \n",
       "0     United States           Tesla, SpaceX             Automotive   \n",
       "1     United States                  Amazon             Technology   \n",
       "2            France                    LVMH       Fashion & Retail   \n",
       "3     United States               Microsoft             Technology   \n",
       "4     United States      Berkshire Hathaway  Finance & Investments   \n",
       "...             ...                     ...                     ...  \n",
       "2595          Spain         pharmaceuticals             Healthcare   \n",
       "2596    Philippines                 apparel       Fashion & Retail   \n",
       "2597    Philippines                 apparel       Fashion & Retail   \n",
       "2598    Philippines                garments       Fashion & Retail   \n",
       "2599        Germany  flavors and fragrances        Food & Beverage   \n",
       "\n",
       "[2600 rows x 8 columns]"
      ]
     },
     "execution_count": 133,
     "metadata": {},
     "output_type": "execute_result"
    }
   ],
   "source": [
    "df"
   ]
  },
  {
   "cell_type": "code",
   "execution_count": 134,
   "id": "87ee4a59-e9cd-48ef-a4a8-a710efee9681",
   "metadata": {},
   "outputs": [],
   "source": [
    "df.networth=df.networth.astype('float64')"
   ]
  },
  {
   "cell_type": "markdown",
   "id": "12617254-4137-4450-a393-9df2f20bb9fe",
   "metadata": {},
   "source": [
    "### After cleaning, NetWorth is converted from strings to float, making it usable for statistical analysis and plotting."
   ]
  },
  {
   "cell_type": "markdown",
   "id": "19e728be-597f-4016-b416-ee741799d132",
   "metadata": {},
   "source": [
    "# 2. Exploratory Data Analysis (EDA):\n",
    "##  What are the key statistics for billionaire net worth, and how is wealth distributed?\n"
   ]
  },
  {
   "cell_type": "markdown",
   "id": "88154bad-4006-47ce-bdbf-4a53715f94ee",
   "metadata": {},
   "source": [
    "### a. Summary Statistics:"
   ]
  },
  {
   "cell_type": "code",
   "execution_count": 135,
   "id": "b7380ceb-66cf-459d-a282-ea16eaa5fd2d",
   "metadata": {},
   "outputs": [
    {
     "data": {
      "text/html": [
       "<div>\n",
       "<style scoped>\n",
       "    .dataframe tbody tr th:only-of-type {\n",
       "        vertical-align: middle;\n",
       "    }\n",
       "\n",
       "    .dataframe tbody tr th {\n",
       "        vertical-align: top;\n",
       "    }\n",
       "\n",
       "    .dataframe thead th {\n",
       "        text-align: right;\n",
       "    }\n",
       "</style>\n",
       "<table border=\"1\" class=\"dataframe\">\n",
       "  <thead>\n",
       "    <tr style=\"text-align: right;\">\n",
       "      <th></th>\n",
       "      <th>Unnamed: 0</th>\n",
       "      <th>rank</th>\n",
       "      <th>networth</th>\n",
       "      <th>age</th>\n",
       "    </tr>\n",
       "  </thead>\n",
       "  <tbody>\n",
       "    <tr>\n",
       "      <th>count</th>\n",
       "      <td>2600.000000</td>\n",
       "      <td>2600.000000</td>\n",
       "      <td>2600.000000</td>\n",
       "      <td>2600.000000</td>\n",
       "    </tr>\n",
       "    <tr>\n",
       "      <th>mean</th>\n",
       "      <td>1299.500000</td>\n",
       "      <td>1269.570769</td>\n",
       "      <td>4.860750</td>\n",
       "      <td>64.271923</td>\n",
       "    </tr>\n",
       "    <tr>\n",
       "      <th>std</th>\n",
       "      <td>750.699674</td>\n",
       "      <td>728.146364</td>\n",
       "      <td>10.659671</td>\n",
       "      <td>13.220607</td>\n",
       "    </tr>\n",
       "    <tr>\n",
       "      <th>min</th>\n",
       "      <td>0.000000</td>\n",
       "      <td>1.000000</td>\n",
       "      <td>1.000000</td>\n",
       "      <td>19.000000</td>\n",
       "    </tr>\n",
       "    <tr>\n",
       "      <th>25%</th>\n",
       "      <td>649.750000</td>\n",
       "      <td>637.000000</td>\n",
       "      <td>1.500000</td>\n",
       "      <td>55.000000</td>\n",
       "    </tr>\n",
       "    <tr>\n",
       "      <th>50%</th>\n",
       "      <td>1299.500000</td>\n",
       "      <td>1292.000000</td>\n",
       "      <td>2.400000</td>\n",
       "      <td>64.000000</td>\n",
       "    </tr>\n",
       "    <tr>\n",
       "      <th>75%</th>\n",
       "      <td>1949.250000</td>\n",
       "      <td>1929.000000</td>\n",
       "      <td>4.500000</td>\n",
       "      <td>74.000000</td>\n",
       "    </tr>\n",
       "    <tr>\n",
       "      <th>max</th>\n",
       "      <td>2599.000000</td>\n",
       "      <td>2578.000000</td>\n",
       "      <td>219.000000</td>\n",
       "      <td>100.000000</td>\n",
       "    </tr>\n",
       "  </tbody>\n",
       "</table>\n",
       "</div>"
      ],
      "text/plain": [
       "        Unnamed: 0         rank     networth          age\n",
       "count  2600.000000  2600.000000  2600.000000  2600.000000\n",
       "mean   1299.500000  1269.570769     4.860750    64.271923\n",
       "std     750.699674   728.146364    10.659671    13.220607\n",
       "min       0.000000     1.000000     1.000000    19.000000\n",
       "25%     649.750000   637.000000     1.500000    55.000000\n",
       "50%    1299.500000  1292.000000     2.400000    64.000000\n",
       "75%    1949.250000  1929.000000     4.500000    74.000000\n",
       "max    2599.000000  2578.000000   219.000000   100.000000"
      ]
     },
     "execution_count": 135,
     "metadata": {},
     "output_type": "execute_result"
    }
   ],
   "source": [
    "df.describe()"
   ]
  },
  {
   "cell_type": "code",
   "execution_count": 136,
   "id": "85ea9877-27ae-46fb-90e5-792198a0019a",
   "metadata": {},
   "outputs": [
    {
     "data": {
      "text/html": [
       "<div>\n",
       "<style scoped>\n",
       "    .dataframe tbody tr th:only-of-type {\n",
       "        vertical-align: middle;\n",
       "    }\n",
       "\n",
       "    .dataframe tbody tr th {\n",
       "        vertical-align: top;\n",
       "    }\n",
       "\n",
       "    .dataframe thead th {\n",
       "        text-align: right;\n",
       "    }\n",
       "</style>\n",
       "<table border=\"1\" class=\"dataframe\">\n",
       "  <thead>\n",
       "    <tr style=\"text-align: right;\">\n",
       "      <th></th>\n",
       "      <th>name</th>\n",
       "      <th>country</th>\n",
       "      <th>source</th>\n",
       "      <th>industry</th>\n",
       "    </tr>\n",
       "  </thead>\n",
       "  <tbody>\n",
       "    <tr>\n",
       "      <th>count</th>\n",
       "      <td>2600</td>\n",
       "      <td>2600</td>\n",
       "      <td>2600</td>\n",
       "      <td>2600</td>\n",
       "    </tr>\n",
       "    <tr>\n",
       "      <th>unique</th>\n",
       "      <td>2598</td>\n",
       "      <td>75</td>\n",
       "      <td>895</td>\n",
       "      <td>18</td>\n",
       "    </tr>\n",
       "    <tr>\n",
       "      <th>top</th>\n",
       "      <td>Wang Yanqing &amp; family</td>\n",
       "      <td>United States</td>\n",
       "      <td>real estate</td>\n",
       "      <td>Finance &amp; Investments</td>\n",
       "    </tr>\n",
       "    <tr>\n",
       "      <th>freq</th>\n",
       "      <td>2</td>\n",
       "      <td>719</td>\n",
       "      <td>148</td>\n",
       "      <td>386</td>\n",
       "    </tr>\n",
       "  </tbody>\n",
       "</table>\n",
       "</div>"
      ],
      "text/plain": [
       "                          name        country       source  \\\n",
       "count                     2600           2600         2600   \n",
       "unique                    2598             75          895   \n",
       "top     Wang Yanqing & family   United States  real estate   \n",
       "freq                         2            719          148   \n",
       "\n",
       "                      industry  \n",
       "count                     2600  \n",
       "unique                      18  \n",
       "top     Finance & Investments   \n",
       "freq                       386  "
      ]
     },
     "execution_count": 136,
     "metadata": {},
     "output_type": "execute_result"
    }
   ],
   "source": [
    "df.describe(include=object)"
   ]
  },
  {
   "cell_type": "markdown",
   "id": "86411232-b6b2-464c-82cd-dab08342ccc2",
   "metadata": {},
   "source": [
    "### Most billionaires have a net worth clustered around the lower billions, but a few individuals with extremely high net worth skew the average upward."
   ]
  },
  {
   "cell_type": "markdown",
   "id": "dfc76d24-c30f-4899-aa20-26fec90a2b22",
   "metadata": {},
   "source": [
    "### b. Distribution Analysis"
   ]
  },
  {
   "cell_type": "code",
   "execution_count": 162,
   "id": "e871c4d3-867b-4dc3-9a22-3d0069ede3de",
   "metadata": {},
   "outputs": [
    {
     "data": {
      "image/png": "[encoded data removed]",
      "text/plain": [
       "<Figure size 2000x900 with 1 Axes>"
      ]
     },
     "metadata": {},
     "output_type": "display_data"
    }
   ],
   "source": [
    "plt.figure(figsize=(20,9))\n",
    "sb.histplot(df.networth,bins=60)\n",
    "plt.show()\n"
   ]
  },
  {
   "cell_type": "code",
   "execution_count": null,
   "id": "71a753bf-e1df-4a34-8a8e-77a3d3480c07",
   "metadata": {},
   "outputs": [],
   "source": []
  },
  {
   "cell_type": "code",
   "execution_count": 138,
   "id": "36e941c1-d6f8-41a4-8f9a-268efc0739b0",
   "metadata": {},
   "outputs": [],
   "source": [
    "top_10 = df.nlargest(10, 'networth')\n"
   ]
  },
  {
   "cell_type": "code",
   "execution_count": 139,
   "id": "4f1af0a2-cb85-4873-9a35-94fd0f184b6e",
   "metadata": {},
   "outputs": [
    {
     "data": {
      "text/html": [
       "<div>\n",
       "<style scoped>\n",
       "    .dataframe tbody tr th:only-of-type {\n",
       "        vertical-align: middle;\n",
       "    }\n",
       "\n",
       "    .dataframe tbody tr th {\n",
       "        vertical-align: top;\n",
       "    }\n",
       "\n",
       "    .dataframe thead th {\n",
       "        text-align: right;\n",
       "    }\n",
       "</style>\n",
       "<table border=\"1\" class=\"dataframe\">\n",
       "  <thead>\n",
       "    <tr style=\"text-align: right;\">\n",
       "      <th></th>\n",
       "      <th>Unnamed: 0</th>\n",
       "      <th>rank</th>\n",
       "      <th>name</th>\n",
       "      <th>networth</th>\n",
       "      <th>age</th>\n",
       "      <th>country</th>\n",
       "      <th>source</th>\n",
       "      <th>industry</th>\n",
       "    </tr>\n",
       "  </thead>\n",
       "  <tbody>\n",
       "    <tr>\n",
       "      <th>0</th>\n",
       "      <td>0</td>\n",
       "      <td>1</td>\n",
       "      <td>Elon Musk</td>\n",
       "      <td>219.0</td>\n",
       "      <td>50</td>\n",
       "      <td>United States</td>\n",
       "      <td>Tesla, SpaceX</td>\n",
       "      <td>Automotive</td>\n",
       "    </tr>\n",
       "    <tr>\n",
       "      <th>1</th>\n",
       "      <td>1</td>\n",
       "      <td>2</td>\n",
       "      <td>Jeff Bezos</td>\n",
       "      <td>171.0</td>\n",
       "      <td>58</td>\n",
       "      <td>United States</td>\n",
       "      <td>Amazon</td>\n",
       "      <td>Technology</td>\n",
       "    </tr>\n",
       "    <tr>\n",
       "      <th>2</th>\n",
       "      <td>2</td>\n",
       "      <td>3</td>\n",
       "      <td>Bernard Arnault &amp; family</td>\n",
       "      <td>158.0</td>\n",
       "      <td>73</td>\n",
       "      <td>France</td>\n",
       "      <td>LVMH</td>\n",
       "      <td>Fashion &amp; Retail</td>\n",
       "    </tr>\n",
       "    <tr>\n",
       "      <th>3</th>\n",
       "      <td>3</td>\n",
       "      <td>4</td>\n",
       "      <td>Bill Gates</td>\n",
       "      <td>129.0</td>\n",
       "      <td>66</td>\n",
       "      <td>United States</td>\n",
       "      <td>Microsoft</td>\n",
       "      <td>Technology</td>\n",
       "    </tr>\n",
       "    <tr>\n",
       "      <th>4</th>\n",
       "      <td>4</td>\n",
       "      <td>5</td>\n",
       "      <td>Warren Buffett</td>\n",
       "      <td>118.0</td>\n",
       "      <td>91</td>\n",
       "      <td>United States</td>\n",
       "      <td>Berkshire Hathaway</td>\n",
       "      <td>Finance &amp; Investments</td>\n",
       "    </tr>\n",
       "    <tr>\n",
       "      <th>5</th>\n",
       "      <td>5</td>\n",
       "      <td>6</td>\n",
       "      <td>Larry Page</td>\n",
       "      <td>111.0</td>\n",
       "      <td>49</td>\n",
       "      <td>United States</td>\n",
       "      <td>Google</td>\n",
       "      <td>Technology</td>\n",
       "    </tr>\n",
       "    <tr>\n",
       "      <th>6</th>\n",
       "      <td>6</td>\n",
       "      <td>7</td>\n",
       "      <td>Sergey Brin</td>\n",
       "      <td>107.0</td>\n",
       "      <td>48</td>\n",
       "      <td>United States</td>\n",
       "      <td>Google</td>\n",
       "      <td>Technology</td>\n",
       "    </tr>\n",
       "    <tr>\n",
       "      <th>7</th>\n",
       "      <td>7</td>\n",
       "      <td>8</td>\n",
       "      <td>Larry Ellison</td>\n",
       "      <td>106.0</td>\n",
       "      <td>77</td>\n",
       "      <td>United States</td>\n",
       "      <td>software</td>\n",
       "      <td>Technology</td>\n",
       "    </tr>\n",
       "    <tr>\n",
       "      <th>8</th>\n",
       "      <td>8</td>\n",
       "      <td>9</td>\n",
       "      <td>Steve Ballmer</td>\n",
       "      <td>91.4</td>\n",
       "      <td>66</td>\n",
       "      <td>United States</td>\n",
       "      <td>Microsoft</td>\n",
       "      <td>Technology</td>\n",
       "    </tr>\n",
       "    <tr>\n",
       "      <th>9</th>\n",
       "      <td>9</td>\n",
       "      <td>10</td>\n",
       "      <td>Mukesh Ambani</td>\n",
       "      <td>90.7</td>\n",
       "      <td>64</td>\n",
       "      <td>India</td>\n",
       "      <td>diversified</td>\n",
       "      <td>Diversified</td>\n",
       "    </tr>\n",
       "  </tbody>\n",
       "</table>\n",
       "</div>"
      ],
      "text/plain": [
       "   Unnamed: 0  rank                       name  networth  age        country  \\\n",
       "0           0     1                 Elon Musk      219.0   50  United States   \n",
       "1           1     2                Jeff Bezos      171.0   58  United States   \n",
       "2           2     3  Bernard Arnault & family      158.0   73         France   \n",
       "3           3     4                Bill Gates      129.0   66  United States   \n",
       "4           4     5            Warren Buffett      118.0   91  United States   \n",
       "5           5     6                Larry Page      111.0   49  United States   \n",
       "6           6     7               Sergey Brin      107.0   48  United States   \n",
       "7           7     8             Larry Ellison      106.0   77  United States   \n",
       "8           8     9             Steve Ballmer       91.4   66  United States   \n",
       "9           9    10             Mukesh Ambani       90.7   64          India   \n",
       "\n",
       "               source                industry  \n",
       "0       Tesla, SpaceX             Automotive   \n",
       "1              Amazon             Technology   \n",
       "2                LVMH       Fashion & Retail   \n",
       "3           Microsoft             Technology   \n",
       "4  Berkshire Hathaway  Finance & Investments   \n",
       "5              Google             Technology   \n",
       "6              Google             Technology   \n",
       "7            software             Technology   \n",
       "8           Microsoft             Technology   \n",
       "9         diversified            Diversified   "
      ]
     },
     "execution_count": 139,
     "metadata": {},
     "output_type": "execute_result"
    }
   ],
   "source": [
    "top_10"
   ]
  },
  {
   "cell_type": "code",
   "execution_count": 140,
   "id": "7428ebe2-414e-4275-9cb2-a9e4eab09bc7",
   "metadata": {},
   "outputs": [],
   "source": [
    "top_10_countries = df['country'].value_counts().head(10)"
   ]
  },
  {
   "cell_type": "code",
   "execution_count": 141,
   "id": "c3a542e5-ed60-445e-9dc2-4aab98a241b2",
   "metadata": {},
   "outputs": [
    {
     "data": {
      "text/plain": [
       "country\n",
       "United States    719\n",
       "China            515\n",
       "India            161\n",
       "Germany          130\n",
       "Russia            81\n",
       "Hong Kong         67\n",
       "Canada            64\n",
       "Brazil            60\n",
       "Italy             52\n",
       "Taiwan            51\n",
       "Name: count, dtype: int64"
      ]
     },
     "execution_count": 141,
     "metadata": {},
     "output_type": "execute_result"
    }
   ],
   "source": [
    "top_10_countries"
   ]
  },
  {
   "cell_type": "code",
   "execution_count": 142,
   "id": "51b166e7-2fff-4cbe-9924-02573f1be287",
   "metadata": {},
   "outputs": [
    {
     "data": {
      "image/png": "[encoded data removed]",
      "text/plain": [
       "<Figure size 2000x900 with 1 Axes>"
      ]
     },
     "metadata": {},
     "output_type": "display_data"
    }
   ],
   "source": [
    "plt.figure(figsize=(20,9))\n",
    "sb.barplot(x=df.country,y=df.networth)\n",
    "plt.xticks(rotation=90)\n",
    "plt.show()"
   ]
  },
  {
   "cell_type": "code",
   "execution_count": 143,
   "id": "3d459696-bb90-465f-a77c-52bc0d95fba9",
   "metadata": {},
   "outputs": [],
   "source": [
    "ind = df['industry'].value_counts()"
   ]
  },
  {
   "cell_type": "code",
   "execution_count": 144,
   "id": "0b2ef567-4de1-4652-987f-53029495e6e9",
   "metadata": {},
   "outputs": [
    {
     "data": {
      "text/plain": [
       "industry\n",
       "Finance & Investments          386\n",
       "Technology                     329\n",
       "Manufacturing                  322\n",
       "Fashion & Retail               246\n",
       "Healthcare                     212\n",
       "Food & Beverage                201\n",
       "Real Estate                    189\n",
       "Diversified                    178\n",
       "Media & Entertainment           95\n",
       "Energy                          93\n",
       "Automotive                      69\n",
       "Metals & Mining                 67\n",
       "Service                         51\n",
       "Construction & Engineering      43\n",
       "Logistics                       35\n",
       "Telecom                         35\n",
       "Sports                          26\n",
       "Gambling & Casinos              23\n",
       "Name: count, dtype: int64"
      ]
     },
     "execution_count": 144,
     "metadata": {},
     "output_type": "execute_result"
    }
   ],
   "source": [
    "ind"
   ]
  },
  {
   "cell_type": "code",
   "execution_count": 146,
   "id": "77afde18-e7fd-4df8-a0c3-00a61ca8b2e4",
   "metadata": {},
   "outputs": [
    {
     "data": {
      "text/plain": [
       "industry\n",
       "Automotive                     8.443478\n",
       "Construction & Engineering     2.811628\n",
       "Diversified                    5.278090\n",
       "Energy                         4.250538\n",
       "Fashion & Retail               6.557724\n",
       "Finance & Investments          4.493005\n",
       "Food & Beverage                4.643532\n",
       "Gambling & Casinos             4.678261\n",
       "Healthcare                     3.343868\n",
       "Logistics                      5.605714\n",
       "Manufacturing                  3.353416\n",
       "Media & Entertainment          5.195789\n",
       "Metals & Mining                5.816418\n",
       "Real Estate                    3.628571\n",
       "Service                        3.649020\n",
       "Sports                         3.753846\n",
       "Technology                     6.590881\n",
       "Telecom                        5.860000\n",
       "Name: networth, dtype: float64"
      ]
     },
     "execution_count": 146,
     "metadata": {},
     "output_type": "execute_result"
    }
   ],
   "source": [
    "df.groupby('industry')['networth'].mean()"
   ]
  },
  {
   "cell_type": "code",
   "execution_count": 147,
   "id": "2e72bc48-11ae-4fcd-b633-71b659737c3e",
   "metadata": {},
   "outputs": [
    {
     "data": {
      "image/png": "[encoded data removed]",
      "text/plain": [
       "<Figure size 2000x900 with 1 Axes>"
      ]
     },
     "metadata": {},
     "output_type": "display_data"
    }
   ],
   "source": [
    "plt.figure(figsize=(20,9))\n",
    "sb.barplot(x=df.industry,y=df.networth)\n",
    "plt.xticks(rotation=90)\n",
    "plt.show()"
   ]
  },
  {
   "cell_type": "code",
   "execution_count": 148,
   "id": "19f6b470-a697-46d4-93f8-6617fe0c7156",
   "metadata": {},
   "outputs": [
    {
     "data": {
      "text/plain": [
       "64.27192307692307"
      ]
     },
     "execution_count": 148,
     "metadata": {},
     "output_type": "execute_result"
    }
   ],
   "source": [
    "df['age'].mean()"
   ]
  },
  {
   "cell_type": "code",
   "execution_count": 149,
   "id": "f8dfca1f-ef7a-4dbe-989f-d323fcf47aed",
   "metadata": {},
   "outputs": [
    {
     "data": {
      "text/plain": [
       "64.0"
      ]
     },
     "execution_count": 149,
     "metadata": {},
     "output_type": "execute_result"
    }
   ],
   "source": [
    "df['age'].median()"
   ]
  },
  {
   "cell_type": "code",
   "execution_count": 151,
   "id": "9bf5ef52-144b-4d88-b61d-f70c2ce185a8",
   "metadata": {},
   "outputs": [],
   "source": [
    "old = df.nlargest(1,'age')"
   ]
  },
  {
   "cell_type": "code",
   "execution_count": 152,
   "id": "76f4810e-b74e-4994-85bc-a6602c13c424",
   "metadata": {},
   "outputs": [
    {
     "data": {
      "text/html": [
       "<div>\n",
       "<style scoped>\n",
       "    .dataframe tbody tr th:only-of-type {\n",
       "        vertical-align: middle;\n",
       "    }\n",
       "\n",
       "    .dataframe tbody tr th {\n",
       "        vertical-align: top;\n",
       "    }\n",
       "\n",
       "    .dataframe thead th {\n",
       "        text-align: right;\n",
       "    }\n",
       "</style>\n",
       "<table border=\"1\" class=\"dataframe\">\n",
       "  <thead>\n",
       "    <tr style=\"text-align: right;\">\n",
       "      <th></th>\n",
       "      <th>Unnamed: 0</th>\n",
       "      <th>rank</th>\n",
       "      <th>name</th>\n",
       "      <th>networth</th>\n",
       "      <th>age</th>\n",
       "      <th>country</th>\n",
       "      <th>source</th>\n",
       "      <th>industry</th>\n",
       "    </tr>\n",
       "  </thead>\n",
       "  <tbody>\n",
       "    <tr>\n",
       "      <th>1681</th>\n",
       "      <td>1681</td>\n",
       "      <td>1645</td>\n",
       "      <td>George Joseph</td>\n",
       "      <td>1.8</td>\n",
       "      <td>100</td>\n",
       "      <td>United States</td>\n",
       "      <td>insurance</td>\n",
       "      <td>Finance &amp; Investments</td>\n",
       "    </tr>\n",
       "  </tbody>\n",
       "</table>\n",
       "</div>"
      ],
      "text/plain": [
       "      Unnamed: 0  rank            name  networth  age        country  \\\n",
       "1681        1681  1645  George Joseph        1.8  100  United States   \n",
       "\n",
       "         source                industry  \n",
       "1681  insurance  Finance & Investments   "
      ]
     },
     "execution_count": 152,
     "metadata": {},
     "output_type": "execute_result"
    }
   ],
   "source": [
    "old"
   ]
  },
  {
   "cell_type": "code",
   "execution_count": 153,
   "id": "87baeac8-e6ed-491c-ac97-4126b2cf3f05",
   "metadata": {},
   "outputs": [],
   "source": [
    "young= df.nsmallest(1, 'age')"
   ]
  },
  {
   "cell_type": "code",
   "execution_count": 154,
   "id": "ed864c6b-fdce-4944-80fd-7b6a3b36dcc7",
   "metadata": {},
   "outputs": [
    {
     "data": {
      "text/html": [
       "<div>\n",
       "<style scoped>\n",
       "    .dataframe tbody tr th:only-of-type {\n",
       "        vertical-align: middle;\n",
       "    }\n",
       "\n",
       "    .dataframe tbody tr th {\n",
       "        vertical-align: top;\n",
       "    }\n",
       "\n",
       "    .dataframe thead th {\n",
       "        text-align: right;\n",
       "    }\n",
       "</style>\n",
       "<table border=\"1\" class=\"dataframe\">\n",
       "  <thead>\n",
       "    <tr style=\"text-align: right;\">\n",
       "      <th></th>\n",
       "      <th>Unnamed: 0</th>\n",
       "      <th>rank</th>\n",
       "      <th>name</th>\n",
       "      <th>networth</th>\n",
       "      <th>age</th>\n",
       "      <th>country</th>\n",
       "      <th>source</th>\n",
       "      <th>industry</th>\n",
       "    </tr>\n",
       "  </thead>\n",
       "  <tbody>\n",
       "    <tr>\n",
       "      <th>1311</th>\n",
       "      <td>1311</td>\n",
       "      <td>1292</td>\n",
       "      <td>Kevin David Lehmann</td>\n",
       "      <td>2.4</td>\n",
       "      <td>19</td>\n",
       "      <td>Germany</td>\n",
       "      <td>drugstores</td>\n",
       "      <td>Fashion &amp; Retail</td>\n",
       "    </tr>\n",
       "  </tbody>\n",
       "</table>\n",
       "</div>"
      ],
      "text/plain": [
       "      Unnamed: 0  rank                  name  networth  age  country  \\\n",
       "1311        1311  1292  Kevin David Lehmann        2.4   19  Germany   \n",
       "\n",
       "          source           industry  \n",
       "1311  drugstores  Fashion & Retail   "
      ]
     },
     "execution_count": 154,
     "metadata": {},
     "output_type": "execute_result"
    }
   ],
   "source": [
    "young"
   ]
  },
  {
   "cell_type": "code",
   "execution_count": null,
   "id": "d9e57602-b6ab-4324-ae80-3f69cad83dcb",
   "metadata": {},
   "outputs": [],
   "source": []
  }
 ],
 "metadata": {
  "kernelspec": {
   "display_name": "Python 3 (ipykernel)",
   "language": "python",
   "name": "python3"
  },
  "language_info": {
   "codemirror_mode": {
    "name": "ipython",
    "version": 3
   },
   "file_extension": ".py",
   "mimetype": "text/x-python",
   "name": "python",
   "nbconvert_exporter": "python",
   "pygments_lexer": "ipython3",
   "version": "3.12.7"
  }
 },
 "nbformat": 4,
 "nbformat_minor": 5
}
